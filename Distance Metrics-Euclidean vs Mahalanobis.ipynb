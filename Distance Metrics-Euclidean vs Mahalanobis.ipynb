{
 "cells": [
  {
   "attachments": {},
   "cell_type": "markdown",
   "metadata": {},
   "source": [
    "# Distance Metrics - Euclidean vs Mahalanobis\n",
    "\n",
    "In this short notebook, we compare the Euclidean distance metric with the Mahalanobis distance metric among the data points of two different 2D datasets:\n",
    "- Dataset 1: features covary\n",
    "- Dataset 2: no covariance\n",
    "\n",
    "Our goal is to determine the best distance metric function when features have large covariance.\n",
    "\n",
    "We will see that in dataset 1, due to large covariance between the features, Eluclidean distance metric doesn't provide the true distance between two data points. We have to use the Mahalanobis distance metric.\n",
    "\n",
    "Mahalanobis distance metric function: \n",
    "- Diagonalizes the covariance matrix (features are decorrelated).\n",
    "- Then, it scales the features.\n",
    "\n",
    "<img src=\"https://cse.unl.edu/~hasan/Pics/Mahalanobis.png\" width=800, height=400>"
   ]
  },
  {
   "cell_type": "code",
   "execution_count": 1,
   "metadata": {},
   "outputs": [],
   "source": [
    "import numpy as np\n",
    "import matplotlib.pyplot as plt\n",
    "from sklearn.metrics.pairwise import euclidean_distances\n",
    "from scipy.spatial.distance import mahalanobis"
   ]
  },
  {
   "cell_type": "code",
   "execution_count": 3,
   "metadata": {},
   "outputs": [
    {
     "name": "stdout",
     "output_type": "stream",
     "text": [
      "Data 1:\n",
      "[[  2  20]\n",
      " [  4  40]\n",
      " [  6  60]\n",
      " [  8  80]\n",
      " [ 10 100]]\n",
      "\n",
      "Data 1 Covariance Matrix:\n",
      " [[  10.  100.]\n",
      " [ 100. 1000.]]\n"
     ]
    },
    {
     "data": {
      "image/png": "[encoded data removed]",
      "text/plain": [
       "<Figure size 432x288 with 1 Axes>"
      ]
     },
     "metadata": {
      "needs_background": "light"
     },
     "output_type": "display_data"
    },
    {
     "name": "stdout",
     "output_type": "stream",
     "text": [
      "\n",
      "Euclidean Distance: 20.10\n",
      "\n",
      "Mahalanobis Distance: 638.78\n",
      "\n",
      "---------------------------------------------------------------------\n",
      "Data 2:\n",
      "[[ 2 36]\n",
      " [ 4 35]\n",
      " [ 6 36]\n",
      " [ 8 35]\n",
      " [10 36]]\n",
      "Data 2 Covariance Matrix:\n",
      " [[10.   0. ]\n",
      " [ 0.   0.3]]\n"
     ]
    },
    {
     "data": {
      "image/png": "[encoded data removed]",
      "text/plain": [
       "<Figure size 432x288 with 1 Axes>"
      ]
     },
     "metadata": {
      "needs_background": "light"
     },
     "output_type": "display_data"
    },
    {
     "name": "stdout",
     "output_type": "stream",
     "text": [
      "\n",
      "Euclidean Distance: 2.24\n",
      "\n",
      "Mahalanobis Distance: 6.35\n"
     ]
    }
   ],
   "source": [
    "# Dataset 1 (has large covariance)\n",
    "data1 = np.array([[2, 20], \n",
    "                  [4, 40],\n",
    "                  [6, 60],\n",
    "                  [8, 80],\n",
    "                  [10, 100]])\n",
    "\n",
    "print(\"Data 1:\")\n",
    "print(data1)\n",
    "data1_cov = np.cov(data1.T)\n",
    "print(\"\\nData 1 Covariance Matrix:\\n\", data1_cov)\n",
    "\n",
    "plt.figure(figsize = (6, 4))\n",
    "plt.scatter(data1[:, 0], data1[:, 1], c=\"b\", marker='o')\n",
    "plt.title(\"Dataset 1: Large Covariance\")\n",
    "plt.xlabel(\"$x_1$\", fontsize=12)\n",
    "plt.ylabel(\"$x_2$\", rotation=90, fontsize=12)\n",
    "plt.show()\n",
    "\n",
    "data1_point_a = data1[0].reshape(1, -1)\n",
    "data1_point_b = data1[1].reshape(1, -1)\n",
    "\n",
    "\n",
    "print(\"\\nEuclidean Distance: %.2f\" % euclidean_distances(data1_point_a, data1_point_b)[0][0])\n",
    "print(\"\\nMahalanobis Distance: %.2f\" % mahalanobis(data1_point_a, data1_point_b, data1_cov.T))\n",
    "\n",
    "\n",
    "print(\"\\n---------------------------------------------------------------------\")\n",
    "\n",
    "\n",
    "# Dataset 2 (no covariance)\n",
    "data2 = np.array([[2, 36], \n",
    "                  [4, 35],\n",
    "                  [6, 36],\n",
    "                  [8, 35],\n",
    "                  [10, 36]])\n",
    "\n",
    "print(\"Data 2:\")\n",
    "print(data2)\n",
    "data2_cov = np.cov(data2.T)\n",
    "print(\"Data 2 Covariance Matrix:\\n\", data2_cov)\n",
    "\n",
    "plt.figure(figsize = (6, 4))\n",
    "plt.scatter(data2[:, 0], data2[:, 1], c=\"r\", marker='x')\n",
    "plt.title(\"Dataset 2: No Covariance\")\n",
    "plt.xlabel(\"$x_1$\", fontsize=12)\n",
    "plt.ylabel(\"$x_2$\", rotation=90, fontsize=12)\n",
    "plt.show()\n",
    "\n",
    "\n",
    "data2_point_a = data2[0].reshape(1, -1)\n",
    "data2_point_b = data2[1].reshape(1, -1)\n",
    "\n",
    "print(\"\\nEuclidean Distance: %.2f\" % euclidean_distances(data2_point_a, data2_point_b)[0][0])\n",
    "print(\"\\nMahalanobis Distance: %.2f\" % mahalanobis(data2_point_a, data2_point_b, data2_cov.T))"
   ]
  }
 ],
 "metadata": {
  "kernelspec": {
   "display_name": "Python 3",
   "language": "python",
   "name": "python3"
  },
  "language_info": {
   "codemirror_mode": {
    "name": "ipython",
    "version": 3
   },
   "file_extension": ".py",
   "mimetype": "text/x-python",
   "name": "python",
   "nbconvert_exporter": "python",
   "pygments_lexer": "ipython3",
   "version": "3.7.3"
  }
 },
 "nbformat": 4,
 "nbformat_minor": 2
}
